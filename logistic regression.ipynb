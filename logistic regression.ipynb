{
 "cells": [
  {
   "cell_type": "code",
   "execution_count": 8,
   "id": "3a9f5f3a",
   "metadata": {},
   "outputs": [],
   "source": [
    "import numpy as np\n",
    "import pandas as pd\n",
    "from sklearn.metrics import recall_score\n",
    "import matplotlib.pyplot as plt\n",
    "from sklearn import metrics\n",
    "from sklearn.metrics import accuracy_score\n",
    "from sklearn.metrics import precision_score"
   ]
  },
  {
   "cell_type": "code",
   "execution_count": 9,
   "id": "35b698cc",
   "metadata": {},
   "outputs": [
    {
     "name": "stdout",
     "output_type": "stream",
     "text": [
      "   no  sepal  petal  sep_leng  pet_leng\n",
      "0   1    5.1    3.5       1.4       0.2\n",
      "1   2    4.9    3.0       1.4       0.2\n",
      "2   3    4.7    3.2       1.3       0.2\n",
      "3   4    4.6    3.1       1.5       0.2\n",
      "4   5    5.0    3.6       1.4       0.2\n",
      "<class 'pandas.core.frame.DataFrame'>\n",
      "RangeIndex: 149 entries, 0 to 148\n",
      "Data columns (total 5 columns):\n",
      " #   Column    Non-Null Count  Dtype  \n",
      "---  ------    --------------  -----  \n",
      " 0   no        149 non-null    int64  \n",
      " 1   sepal     149 non-null    float64\n",
      " 2   petal     149 non-null    float64\n",
      " 3   sep_leng  149 non-null    float64\n",
      " 4   pet_leng  149 non-null    float64\n",
      "dtypes: float64(4), int64(1)\n",
      "memory usage: 5.9 KB\n",
      "None\n",
      "accuracy on train data : 0.990990990990991\n",
      "error rate on train dataset: 0.009009009009009028\n",
      "accuracy on test data : 1.0\n",
      "error rate on test dataset: 0.0\n",
      "confusion matrix is : [[38]]\n",
      "precision:  1.0\n",
      "precision:  1.0\n"
     ]
    },
    {
     "name": "stderr",
     "output_type": "stream",
     "text": [
      "/var/folders/f9/yyd6k5h14l99g45hjg3bdyy00000gn/T/ipykernel_6458/4021774406.py:12: SettingWithCopyWarning: \n",
      "A value is trying to be set on a copy of a slice from a DataFrame\n",
      "\n",
      "See the caveats in the documentation: https://pandas.pydata.org/pandas-docs/stable/user_guide/indexing.html#returning-a-view-versus-a-copy\n",
      "  dataset['pet_leng'][i]=0\n",
      "/var/folders/f9/yyd6k5h14l99g45hjg3bdyy00000gn/T/ipykernel_6458/4021774406.py:14: SettingWithCopyWarning: \n",
      "A value is trying to be set on a copy of a slice from a DataFrame\n",
      "\n",
      "See the caveats in the documentation: https://pandas.pydata.org/pandas-docs/stable/user_guide/indexing.html#returning-a-view-versus-a-copy\n",
      "  dataset['pet_leng'][i]=1\n"
     ]
    }
   ],
   "source": [
    "import pandas as pd\n",
    "import os\n",
    "# data = pd.read_csv(r'/Users/parshavmaloo/Desktop/Machine Learning/DATASET/iris.csv')\n",
    "working_directory=os.getcwd()\n",
    "path = working_directory + '/DATASET/iris.csv'\n",
    "dataset = pd.read_csv(path)\n",
    "print(dataset.head())\n",
    "\n",
    "print(dataset.info())\n",
    "# for decimal \n",
    "for i in range(0,len(dataset['pet_leng'])):\n",
    "    if i<0.15:\n",
    "        dataset['pet_leng'][i]=0\n",
    "    else:\n",
    "        dataset['pet_leng'][i]=1\n",
    "        \n",
    "dataset=dataset.drop(['no'],axis=1)\n",
    "X = dataset.drop(['pet_leng'], axis=1)  \n",
    "y = dataset['pet_leng']  \n",
    "from sklearn.model_selection import train_test_split\n",
    "X_train, X_test, y_train, y_test = train_test_split(X,y,test_size=0.25,random_state=0)\n",
    "\n",
    "from sklearn.linear_model import LogisticRegression\n",
    "regressor = LogisticRegression()\n",
    "\n",
    "regressor.fit(X_train,y_train)\n",
    "\n",
    "print(\"accuracy on train data :\",metrics.accuracy_score(y_train, regressor.predict(X_train)))\n",
    "print(\"error rate on train dataset:\",1-accuracy_score(y_train, regressor.predict(X_train)))\n",
    "print(\"accuracy on test data :\",accuracy_score(y_test, regressor.predict(X_test)))\n",
    "print(\"error rate on test dataset:\",1-accuracy_score(y_test, regressor.predict(X_test)))\n",
    "\n",
    "\n",
    "\n",
    "y_predicted=regressor.predict(X_test)\n",
    "from sklearn import metrics\n",
    "cm=metrics.confusion_matrix(y_test, y_predicted)\n",
    "print(\"confusion matrix is :\",cm)\n",
    "\n",
    "\n",
    "precision = precision_score(y_test, y_predicted,average=\"micro\")\n",
    "print(\"precision: \",precision)\n",
    "\n",
    "recall = recall_score(y_test, y_predicted,average=\"micro\")\n",
    "print(\"precision: \",recall)\n",
    "\n"
   ]
  },
  {
   "cell_type": "code",
   "execution_count": null,
   "id": "421c9727",
   "metadata": {},
   "outputs": [],
   "source": []
  }
 ],
 "metadata": {
  "kernelspec": {
   "display_name": "Python 3 (ipykernel)",
   "language": "python",
   "name": "python3"
  },
  "language_info": {
   "codemirror_mode": {
    "name": "ipython",
    "version": 3
   },
   "file_extension": ".py",
   "mimetype": "text/x-python",
   "name": "python",
   "nbconvert_exporter": "python",
   "pygments_lexer": "ipython3",
   "version": "3.9.7"
  }
 },
 "nbformat": 4,
 "nbformat_minor": 5
}
